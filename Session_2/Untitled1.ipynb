{
 "cells": [
  {
   "cell_type": "markdown",
   "metadata": {},
   "source": [
    "Goal is to verify the plot the Philips curve"
   ]
  },
  {
   "cell_type": "code",
   "execution_count": 2,
   "metadata": {},
   "outputs": [
    {
     "name": "stdout",
     "output_type": "stream",
     "text": [
      "Requirement already satisfied: dbnomics in /home/pablo/.local/opt/anaconda3/lib/python3.8/site-packages (1.2.0)\n",
      "Requirement already satisfied: requests>=2.18.4 in /home/pablo/.local/opt/anaconda3/lib/python3.8/site-packages (from dbnomics) (2.24.0)\n",
      "Requirement already satisfied: pandas>=0.21 in /home/pablo/.local/opt/anaconda3/lib/python3.8/site-packages (from dbnomics) (1.1.3)\n",
      "Requirement already satisfied: urllib3!=1.25.0,!=1.25.1,<1.26,>=1.21.1 in /home/pablo/.local/opt/anaconda3/lib/python3.8/site-packages (from requests>=2.18.4->dbnomics) (1.25.11)\n",
      "Requirement already satisfied: chardet<4,>=3.0.2 in /home/pablo/.local/opt/anaconda3/lib/python3.8/site-packages (from requests>=2.18.4->dbnomics) (3.0.4)\n",
      "Requirement already satisfied: idna<3,>=2.5 in /home/pablo/.local/opt/anaconda3/lib/python3.8/site-packages (from requests>=2.18.4->dbnomics) (2.10)\n",
      "Requirement already satisfied: certifi>=2017.4.17 in /home/pablo/.local/opt/anaconda3/lib/python3.8/site-packages (from requests>=2.18.4->dbnomics) (2020.12.5)\n",
      "Requirement already satisfied: numpy>=1.15.4 in /home/pablo/.local/lib/python3.8/site-packages (from pandas>=0.21->dbnomics) (1.18.3)\n",
      "Requirement already satisfied: pytz>=2017.2 in /home/pablo/.local/opt/anaconda3/lib/python3.8/site-packages (from pandas>=0.21->dbnomics) (2020.1)\n",
      "Requirement already satisfied: python-dateutil>=2.7.3 in /home/pablo/.local/opt/anaconda3/lib/python3.8/site-packages (from pandas>=0.21->dbnomics) (2.8.1)\n",
      "Requirement already satisfied: six>=1.5 in /home/pablo/.local/opt/anaconda3/lib/python3.8/site-packages (from python-dateutil>=2.7.3->pandas>=0.21->dbnomics) (1.15.0)\n"
     ]
    }
   ],
   "source": [
    "# if not installed already, install it\n",
    "!pip install dbnomics"
   ]
  },
  {
   "cell_type": "code",
   "execution_count": null,
   "metadata": {},
   "outputs": [],
   "source": [
    "### Let's try dbnoamics\n",
    "\n",
    "- we'll import series on unemployment, inflation, gdp"
   ]
  },
  {
   "cell_type": "code",
   "execution_count": null,
   "metadata": {},
   "outputs": [],
   "source": [
    "# if not installed already, install it\n",
    "!pip install dbnomics"
   ]
  }
 ],
 "metadata": {
  "kernelspec": {
   "display_name": "Python 3",
   "language": "python",
   "name": "python3"
  },
  "language_info": {
   "codemirror_mode": {
    "name": "ipython",
    "version": 3
   },
   "file_extension": ".py",
   "mimetype": "text/x-python",
   "name": "python",
   "nbconvert_exporter": "python",
   "pygments_lexer": "ipython3",
   "version": "3.8.5"
  }
 },
 "nbformat": 4,
 "nbformat_minor": 4
}
